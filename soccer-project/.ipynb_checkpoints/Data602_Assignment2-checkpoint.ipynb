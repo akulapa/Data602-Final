{
 "cells": [
  {
   "cell_type": "markdown",
   "metadata": {},
   "source": [
    "### Objective\n",
    "\n",
    "The objective for _assignment 2_ is to continue to build the trading system that was started in _assignment 1_ with new requirements and changes. The focus will be on developing visualizations to show the trader time-series and analytics."
   ]
  },
  {
   "cell_type": "markdown",
   "metadata": {},
   "source": [
    "### Requirements\n",
    "\n",
    "The new trading system will have the same requirements as _assignment 1_ but with the following additional requirements or modifications:\n",
    "\n",
    "\n",
    "- The application will be entirely web-based using Flask or any other Python-based web framework\n",
    "\n",
    "    a. The user interface does not need to be attractive but neat, clean and organized. Using a framework like Bootstrap is permissible. If you are going to use a design motif, stick to a “flat” modern theme.\n",
    "    \n",
    "    b. If you are new to web programming then stick to pure HTML5.\n",
    "\n",
    "\n",
    "- Blotter data will be persisted into a database. You are free to decide what database what you wish, but a NoSQL database (MongoDB, DynamoDB, etc.) is preferred. You will not lose or gain points for choosing / not choosing a particular database."
   ]
  },
  {
   "cell_type": "code",
   "execution_count": null,
   "metadata": {
    "collapsed": true
   },
   "outputs": [],
   "source": []
  }
 ],
 "metadata": {
  "kernelspec": {
   "display_name": "Python 3",
   "language": "python",
   "name": "python3"
  },
  "language_info": {
   "codemirror_mode": {
    "name": "ipython",
    "version": 3
   },
   "file_extension": ".py",
   "mimetype": "text/x-python",
   "name": "python",
   "nbconvert_exporter": "python",
   "pygments_lexer": "ipython3",
   "version": "3.6.1"
  }
 },
 "nbformat": 4,
 "nbformat_minor": 2
}
